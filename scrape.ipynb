{
 "cells": [
  {
   "cell_type": "markdown",
   "metadata": {},
   "source": [
    "## Scrape metadata and images for each category"
   ]
  },
  {
   "cell_type": "code",
   "execution_count": 40,
   "metadata": {},
   "outputs": [],
   "source": [
    "import json\n",
    "import pandas as pd\n",
    "import numpy as np\n",
    "from pandas.io.json import json_normalize\n",
    "import urllib.request\n",
    "import sys\n",
    "import getopt\n",
    "from multiprocessing.dummy import Pool\n",
    "import csv\n",
    "import os\n",
    "import requests\n",
    "from sqlalchemy.exc import IntegrityError\n",
    "import argparse\n",
    "import pickle"
   ]
  },
  {
   "cell_type": "code",
   "execution_count": 41,
   "metadata": {},
   "outputs": [],
   "source": [
    "#define function to save response\n",
    "def get_api_json(api_url):\n",
    "    response = requests.get(api_url).text\n",
    "    resp_obj = json.loads(response)\n",
    "    return resp_obj"
   ]
  },
  {
   "cell_type": "code",
   "execution_count": 42,
   "metadata": {},
   "outputs": [],
   "source": [
    "# define function to parse product info\n",
    "def parse_product(prod, parent_category):\n",
    "        pro_id = prod['id']\n",
    "        name = prod['name']\n",
    "        image_url = prod['image']['sizes']['Original']['url']\n",
    "        price=prod['priceLabel']\n",
    "        shopping_link=prod['clickUrl']\n",
    "        try:\n",
    "            saleprice=prod['salePriceLabel']\n",
    "        except:\n",
    "            saleprice=None\n",
    "        categories = [cat['id'] for cat in prod['categories']]\n",
    "        return {'id': pro_id,\n",
    "                'product_name': name,\n",
    "                'price':price,\n",
    "                'saleprice':saleprice,\n",
    "                'image_url': image_url,\n",
    "                'categories': categories,\n",
    "                'parent_category': parent_category,\n",
    "               'url':shopping_link}"
   ]
  },
  {
   "cell_type": "code",
   "execution_count": 43,
   "metadata": {},
   "outputs": [],
   "source": [
    "# define function to get response from API\n",
    "def get_responses(url, offset, product_type):\n",
    "    api_url = url + '&offset=' + str(offset)\n",
    "    resp=get_api_json(api_url)\n",
    "    return resp"
   ]
  },
  {
   "cell_type": "code",
   "execution_count": 44,
   "metadata": {},
   "outputs": [],
   "source": [
    "# define function to paginate products\n",
    "def paginate_shopstyle_products(url, offset, product_type):\n",
    "    api_url = url + '&offset=' + str(offset)\n",
    "    products = get_api_json(api_url)['products']\n",
    "    products = [parse_product(\n",
    "                prod, product_type) for prod in products]\n",
    "    return products"
   ]
  },
  {
   "cell_type": "code",
   "execution_count": 61,
   "metadata": {},
   "outputs": [],
   "source": [
    "# define function to store scraped product\n",
    "def store_shopstyle_products(product_type):\n",
    "    product_list=[]\n",
    "    response_list=[]\n",
    "    api_url = ''\n",
    "    if product_type == 'dress':\n",
    "        api_url = 'http://api.shopstyle.com/api/v2/products?pid=shopstyle&fts=dress&day-dresses&max-price=100&r=amazon.com-us,and-other-stories-us,banana-republic-us,bergdorf-goodman-us,bloomingdales-us,boohoo-us,calvin-klein-us,century-21-us,handm-us,hautelook-us,j.crew-us,jcpenney-us,last-call-by-neiman-marcus-us,loft-us,lord-and-taylor-us,lucky-brand-us,macys-us,mango-us,missguided-us,nasty-gal-us,need-supply-co.-us,neiman-marcus-us,nordstrom-rack-us,nordstrom-us,off-5th-us,revolve-us,rue-la-la-us,saks-fifth-avenue-us,shopbop.com-us,the-outnet.com-us,zappos-us&sort=Favorite&limit=50'\n",
    "    elif product_type == 'jeans':\n",
    "        api_url = 'http://api.shopstyle.com/api/v2/products?pid=shopstyle&fts=women+jeans&max-price=80&r=bloomingdales-us,last-call-by-neiman-marcus-us,lord-and-taylor-us,macys-us,neiman-marcus-us,nordstrom-rack-us,nordstrom-us&sort=Popular&limit=50'\n",
    "    elif product_type == 'jacket':\n",
    "        api_url = 'http://api.shopstyle.com/api/v2/products?pid=shopstyle&fts=women+jacket&max-price=250&r=bloomingdales-us,last-call-by-neiman-marcus-us,lord-and-taylor-us,macys-us,neiman-marcus-us,nordstrom-rack-us,nordstrom-us&sort=Popular&limit=50'\n",
    "    elif product_type == 'outerwear':\n",
    "        api_url = 'http://api.shopstyle.com/api/v2/products?pid=shopstyle&fts=women+outerwear&max-price=500&r=bloomingdales-us,handm-us,jcpenney-us,last-call-by-neiman-marcus-us,lord-and-taylor-us,macys-us,mango-us,neiman-marcus-us,nordstrom-rack-us,nordstrom-us,off-5th-us,rue-la-la-us,therealreal-us&sort=Popular&limit=50'\n",
    "    elif product_type == 'pants':\n",
    "        api_url = 'http://api.shopstyle.com/api/v2/products?pid=shopstyle&fts=women+pants&max-price=80&r=bloomingdales-us,last-call-by-neiman-marcus-us,lord-and-taylor-us,macys-us,neiman-marcus-us,nordstrom-rack-us,nordstrom-us&sort=Popular&limit=50'\n",
    "    elif product_type == 'shorts':\n",
    "        api_url = 'http://api.shopstyle.com/api/v2/products?pid=shopstyle&fts=women+shorts&max-price=80&r=bloomingdales-us,jcpenney-us,last-call-by-neiman-marcus-us,lord-and-taylor-us,macys-us,mango-us,neiman-marcus-us,nordstrom-rack-us,nordstrom-us,off-5th-us,rue-la-la-us&sort=Popular&limit=50'\n",
    "    elif product_type == 'skirts':\n",
    "        api_url = 'http://api.shopstyle.com/api/v2/products?pid=shopstyle&fts=skirts&max-price=80&r=bloomingdales-us,jcpenney-us,last-call-by-neiman-marcus-us,lord-and-taylor-us,macys-us,mango-us,neiman-marcus-us,nordstrom-rack-us,nordstrom-us,off-5th-us,rue-la-la-us&sort=Popular&limit=50'\n",
    "    elif product_type == 'sweaters':\n",
    "        api_url = 'http://api.shopstyle.com/api/v2/products?pid=shopstyle&fts=women+sweater&max-price=80&r=bloomingdales-us,jcpenney-us,last-call-by-neiman-marcus-us,lord-and-taylor-us,macys-us,mango-us,neiman-marcus-us,nordstrom-rack-us,nordstrom-us,off-5th-us,rue-la-la-us&sort=Popular&limit=50'\n",
    "    elif product_type == 'sweatshirt':\n",
    "        api_url = 'http://api.shopstyle.com/api/v2/products?pid=shopstyle&fts=women+sweatshirts&max-price=80&r=bloomingdales-us,jcpenney-us,last-call-by-neiman-marcus-us,lord-and-taylor-us,macys-us,mango-us,neiman-marcus-us,nordstrom-rack-us,nordstrom-us,off-5th-us,rue-la-la-us&sort=Popular&limit=50'\n",
    "    elif product_type == 'tops':\n",
    "        api_url = 'http://api.shopstyle.com/api/v2/products?pid=shopstyle&fts=women+tops&max-price=50&r=bloomingdales-us,last-call-by-neiman-marcus-us,lord-and-taylor-us,macys-us,nordstrom-rack-us,nordstrom-us&sort=Popular&limit=50'\n",
    "    elif product_type == 'handbags':\n",
    "        api_url = 'http://api.shopstyle.com/api/v2/products?pid=shopstyle&fts=handbags&max-price=80&r=6pm.com-us,amazon.com-us,bloomingdales-us,last-call-by-neiman-marcus-us,macys-us,nordstrom-rack-us,nordstrom-us&sort=Favorite&limit=50'\n",
    "        \n",
    "    offset = 5050\n",
    "    while offset < 10000:\n",
    "        print('Getting {} batch {}'.format(product_type, offset))\n",
    "        product_batch = paginate_shopstyle_products(\n",
    "            api_url, offset, product_type)\n",
    "        response=get_responses(api_url, offset, product_type)\n",
    "        for p in product_batch:\n",
    "            try:\n",
    "                product_list.append(p)\n",
    "            except IntegrityError:\n",
    "                print('product ', p['id'], ' already exists')\n",
    "        for r in response:\n",
    "            response_list.append(response)\n",
    "        offset += 50\n",
    "    pickle_name=str(product_type)+'.pickle'\n",
    "    response_name=str(product_type)+'_response.pickle'\n",
    "    pickle.dump(product_list, open(pickle_name, 'wb'))\n",
    "    pickle.dump(response_list, open(response_name, 'wb'))\n",
    "    return product_list"
   ]
  },
  {
   "cell_type": "code",
   "execution_count": null,
   "metadata": {},
   "outputs": [],
   "source": [
    "dress_new_2=store_shopstyle_products('dress')"
   ]
  },
  {
   "cell_type": "code",
   "execution_count": 56,
   "metadata": {},
   "outputs": [],
   "source": [
    "# define functions to save images\n",
    "def get_img(product):\n",
    "    path = './data/train/dress/'+str(product['id'])+'.jpg'\n",
    "    url = product['image_url']\n",
    "    print('Getting ', str(product['id']), ': ', path, ', ', url)\n",
    "    urllib.request.urlretrieve(url, path)\n",
    "    \n",
    "def save_shopstyle_products(product_type):\n",
    "    for i in product_type:\n",
    "        if i['id'] in dress_list:\n",
    "            print('already exist')\n",
    "        else:\n",
    "            try:\n",
    "                get_img(i)\n",
    "            except:\n",
    "                print('error')"
   ]
  },
  {
   "cell_type": "code",
   "execution_count": null,
   "metadata": {},
   "outputs": [],
   "source": [
    "save_shopstyle_products(dress_new_2)"
   ]
  },
  {
   "cell_type": "code",
   "execution_count": 2,
   "metadata": {},
   "outputs": [],
   "source": [
    "# define function to store test images\n",
    "\n",
    "def store_shopstyle_products_test(product_type):\n",
    "    product_list=[]\n",
    "    response_list=[]\n",
    "    api_url = ''\n",
    "    if product_type == 'dress':\n",
    "        api_url = 'http://api.shopstyle.com/api/v2/products?pid=shopstyle&fts=dress&min-price=80&r=bloomingdales-us,last-call-by-neiman-marcus-us,lord-and-taylor-us,macys-us,neiman-marcus-us,nordstrom-rack-us,nordstrom-us&sort=Popular&limit=50'\n",
    "    elif product_type == 'jeans':\n",
    "        api_url = 'http://api.shopstyle.com/api/v2/products?pid=shopstyle&fts=women+jeans&min-price=80&r=bloomingdales-us,last-call-by-neiman-marcus-us,lord-and-taylor-us,macys-us,neiman-marcus-us,nordstrom-rack-us,nordstrom-us&sort=Popular&limit=50'\n",
    "    elif product_type == 'jacket':\n",
    "        api_url = 'http://api.shopstyle.com/api/v2/products?pid=shopstyle&fts=women+jacket&min-price=250&r=bloomingdales-us,last-call-by-neiman-marcus-us,lord-and-taylor-us,macys-us,neiman-marcus-us,nordstrom-rack-us,nordstrom-us&sort=Popular&limit=50'\n",
    "    elif product_type == 'outerwear':\n",
    "        api_url = 'http://api.shopstyle.com/api/v2/products?pid=shopstyle&fts=women+outerwear&min-price=500&r=bloomingdales-us,handm-us,jcpenney-us,last-call-by-neiman-marcus-us,lord-and-taylor-us,macys-us,mango-us,neiman-marcus-us,nordstrom-rack-us,nordstrom-us,off-5th-us,rue-la-la-us,therealreal-us&sort=Popular&limit=50'\n",
    "    elif product_type == 'pants':\n",
    "        api_url = 'http://api.shopstyle.com/api/v2/products?pid=shopstyle&fts=women+pants&min-price=80&r=bloomingdales-us,last-call-by-neiman-marcus-us,lord-and-taylor-us,macys-us,neiman-marcus-us,nordstrom-rack-us,nordstrom-us&sort=Popular&limit=50'\n",
    "    elif product_type == 'shorts':\n",
    "        api_url = 'http://api.shopstyle.com/api/v2/products?pid=shopstyle&fts=women+shorts&min-price=80&r=bloomingdales-us,jcpenney-us,last-call-by-neiman-marcus-us,lord-and-taylor-us,macys-us,mango-us,neiman-marcus-us,nordstrom-rack-us,nordstrom-us,off-5th-us,rue-la-la-us&sort=Popular&limit=50'\n",
    "    elif product_type == 'skirts':\n",
    "        api_url = 'http://api.shopstyle.com/api/v2/products?pid=shopstyle&fts=skirts&min-price=80&r=bloomingdales-us,jcpenney-us,last-call-by-neiman-marcus-us,lord-and-taylor-us,macys-us,mango-us,neiman-marcus-us,nordstrom-rack-us,nordstrom-us,off-5th-us,rue-la-la-us&sort=Popular&limit=50'\n",
    "    elif product_type == 'sweaters':\n",
    "        api_url = 'http://api.shopstyle.com/api/v2/products?pid=shopstyle&fts=women+sweater&min-price=80&r=bloomingdales-us,jcpenney-us,last-call-by-neiman-marcus-us,lord-and-taylor-us,macys-us,mango-us,neiman-marcus-us,nordstrom-rack-us,nordstrom-us,off-5th-us,rue-la-la-us&sort=Popular&limit=50'\n",
    "    elif product_type == 'sweatshirt':\n",
    "        api_url = 'http://api.shopstyle.com/api/v2/products?pid=shopstyle&fts=women+sweatshirts&min-price=80&r=bloomingdales-us,jcpenney-us,last-call-by-neiman-marcus-us,lord-and-taylor-us,macys-us,mango-us,neiman-marcus-us,nordstrom-rack-us,nordstrom-us,off-5th-us,rue-la-la-us&sort=Popular&limit=50'\n",
    "    elif product_type == 'tops':\n",
    "        api_url = 'http://api.shopstyle.com/api/v2/products?pid=shopstyle&fts=women+tops&min-price=50&r=bloomingdales-us,last-call-by-neiman-marcus-us,lord-and-taylor-us,macys-us,nordstrom-rack-us,nordstrom-us&sort=Popular&limit=50'\n",
    "\n",
    "\n",
    "        \n",
    "    offset = 0\n",
    "    while offset <= 950:\n",
    "        print('Getting {} batch {}'.format(product_type, offset))\n",
    "        product_batch = paginate_shopstyle_products(\n",
    "            api_url, offset, product_type)\n",
    "        response=get_responses(api_url, offset, product_type)\n",
    "        for p in product_batch:\n",
    "            try:\n",
    "                product_list.append(p)\n",
    "            except IntegrityError:\n",
    "                print('product ', p['id'], ' already exists')\n",
    "        for r in response:\n",
    "            response_list.append(response)\n",
    "        offset += 50\n",
    "    pickle_name=str(product_type)+'_test.pickle'\n",
    "    response_name=str(product_type)+'_response_test.pickle'\n",
    "    pickle.dump(product_list, open(pickle_name, 'wb'))\n",
    "    pickle.dump(response_list, open(response_name, 'wb'))\n",
    "    return product_list"
   ]
  },
  {
   "cell_type": "code",
   "execution_count": null,
   "metadata": {},
   "outputs": [],
   "source": [
    "shorts_test=store_shopstyle_products_test('shorts')"
   ]
  },
  {
   "cell_type": "code",
   "execution_count": 19,
   "metadata": {},
   "outputs": [],
   "source": [
    "train_dress_list=!ls data/train/dress\n",
    "train_dress_list=[int(i.split('.')[0]) for i in train_dress_list]"
   ]
  },
  {
   "cell_type": "code",
   "execution_count": 158,
   "metadata": {},
   "outputs": [],
   "source": [
    "train_dress=pd.read_pickle('metadata/train_meta/sweatshirt.pickle')"
   ]
  },
  {
   "cell_type": "code",
   "execution_count": 159,
   "metadata": {},
   "outputs": [],
   "source": [
    "train_dress=list(pd.DataFrame(train_dress)['id'])"
   ]
  },
  {
   "cell_type": "code",
   "execution_count": 160,
   "metadata": {},
   "outputs": [],
   "source": [
    "need_scrape=[i for i in train_dress_list if i not in train_dress]"
   ]
  },
  {
   "cell_type": "code",
   "execution_count": 81,
   "metadata": {},
   "outputs": [],
   "source": [
    "def find_parse_list(parent_category):\n",
    "    parse_list=!ls data/train/sweatshirt\n",
    "    parse_list=[int(i.split('.')[0]) for i in parse_list]\n",
    "    return parse_list"
   ]
  },
  {
   "cell_type": "code",
   "execution_count": null,
   "metadata": {},
   "outputs": [],
   "source": [
    "train_tops_list=find_parse_list('tops')"
   ]
  },
  {
   "cell_type": "code",
   "execution_count": 45,
   "metadata": {},
   "outputs": [],
   "source": [
    "def parse_product_new(parent_category,need_scrape):\n",
    "    response_list=[]\n",
    "    need_scrape_info=[]\n",
    "    for i in need_scrape:\n",
    "        print(i)\n",
    "        url='http://api.shopstyle.com/api/v2/products/'+str(i)+'?pid=shopstyle'\n",
    "        prod=get_api_json(url)\n",
    "        response=prod\n",
    "        pro_id = prod['id']\n",
    "        name = prod['name']\n",
    "        image_url = prod['image']['sizes']['Original']['url']\n",
    "        price=prod['priceLabel']\n",
    "        shopping_link=prod['clickUrl']\n",
    "        try:\n",
    "            saleprice=prod['salePriceLabel']\n",
    "        except:\n",
    "            saleprice=None\n",
    "        categories = [cat['id'] for cat in prod['categories']]\n",
    "        info= {'id': pro_id,\n",
    "                    'product_name': name,\n",
    "                    'price':price,\n",
    "                    'saleprice':saleprice,\n",
    "                    'image_url': image_url,\n",
    "                    'categories': categories,\n",
    "                    'parent_category': parent_category,\n",
    "              'url':shopping_link}\n",
    "        need_scrape_info.append(info)\n",
    "        response_list.append(prod)\n",
    "    pickle_name=parent_category+'.pickle'\n",
    "    pickle.dump(need_scrape_info, open(pickle_name, 'wb'))\n",
    "    response_name=parent_category+'_response_train.pickle'\n",
    "    pickle.dump(response_list, open(response_name, 'wb'))\n",
    "    return need_scrape_info"
   ]
  },
  {
   "cell_type": "code",
   "execution_count": null,
   "metadata": {},
   "outputs": [],
   "source": [
    "parse_product_new('sweatshirt',train_sweatshirt_list)"
   ]
  },
  {
   "cell_type": "code",
   "execution_count": null,
   "metadata": {},
   "outputs": [],
   "source": [
    "def parse_product(prod, parent_category):\n",
    "        pro_id = prod['id']\n",
    "        name = prod['name']\n",
    "        image_url = prod['image']['sizes']['Original']['url']\n",
    "        price=prod['priceLabel']\n",
    "        shopping_link=prod['clickUrl']\n",
    "        try:\n",
    "            saleprice=prod['salePriceLabel']\n",
    "        except:\n",
    "            saleprice=None\n",
    "        categories = [cat['id'] for cat in prod['categories']]\n",
    "        return {'id': pro_id,\n",
    "                'product_name': name,\n",
    "                'price':price,\n",
    "                'saleprice':saleprice,\n",
    "                'image_url': image_url,\n",
    "                'categories': categories,\n",
    "                'parent_category': parent_category,\n",
    "               'url':}"
   ]
  },
  {
   "cell_type": "code",
   "execution_count": 2,
   "metadata": {},
   "outputs": [],
   "source": [
    "## find sold out ones\n",
    "df_meta=pd.read_pickle('/Users/Minmin/ds/styleflask/models/df_meta.pickle')"
   ]
  },
  {
   "cell_type": "code",
   "execution_count": 10,
   "metadata": {},
   "outputs": [],
   "source": [
    "oos=df_meta.loc[(df_meta['parent_category']=='dress')&(df_meta['final_price']=='Sold Out')]"
   ]
  },
  {
   "cell_type": "code",
   "execution_count": 14,
   "metadata": {},
   "outputs": [],
   "source": [
    "oos_list=list(oos['id'])"
   ]
  },
  {
   "cell_type": "code",
   "execution_count": 23,
   "metadata": {},
   "outputs": [
    {
     "data": {
      "text/plain": [
       "1275"
      ]
     },
     "execution_count": 23,
     "metadata": {},
     "output_type": "execute_result"
    }
   ],
   "source": [
    "len(oos_list)"
   ]
  },
  {
   "cell_type": "code",
   "execution_count": 18,
   "metadata": {},
   "outputs": [],
   "source": [
    "df_dress=pd.read_pickle('/Users/Minmin/ds/styleflask/models/dress_features.pickle')"
   ]
  },
  {
   "cell_type": "code",
   "execution_count": 22,
   "metadata": {},
   "outputs": [
    {
     "data": {
      "text/plain": [
       "(5049, 4096)"
      ]
     },
     "execution_count": 22,
     "metadata": {},
     "output_type": "execute_result"
    }
   ],
   "source": [
    "df_dress.shape"
   ]
  },
  {
   "cell_type": "code",
   "execution_count": 25,
   "metadata": {},
   "outputs": [],
   "source": [
    "df_dress=df_dress.loc[~df_dress.index.isin(oos_list)]"
   ]
  },
  {
   "cell_type": "code",
   "execution_count": 29,
   "metadata": {},
   "outputs": [],
   "source": [
    "dress_list=list(df_dress.index)"
   ]
  },
  {
   "cell_type": "code",
   "execution_count": 39,
   "metadata": {},
   "outputs": [],
   "source": [
    "for i in oos_list:\n",
    "    filename='/Users/Minmin/ds/shopstyle/data/train/dress/'+str(i)+'.jpg'\n",
    "    if os.path.isfile(filename):\n",
    "        os.remove(filename)\n",
    "    else:    ## Show an error ##\n",
    "        print(\"Error: %s file not found\" % filename)"
   ]
  }
 ],
 "metadata": {
  "kernelspec": {
   "display_name": "Python 3",
   "language": "python",
   "name": "python3"
  },
  "language_info": {
   "codemirror_mode": {
    "name": "ipython",
    "version": 3
   },
   "file_extension": ".py",
   "mimetype": "text/x-python",
   "name": "python",
   "nbconvert_exporter": "python",
   "pygments_lexer": "ipython3",
   "version": "3.6.4"
  }
 },
 "nbformat": 4,
 "nbformat_minor": 2
}
