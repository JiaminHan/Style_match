{
 "cells": [
  {
   "cell_type": "code",
   "execution_count": 1,
   "metadata": {},
   "outputs": [
    {
     "name": "stderr",
     "output_type": "stream",
     "text": [
      "/home/ubuntu/anaconda3/lib/python3.6/site-packages/h5py/__init__.py:36: FutureWarning: Conversion of the second argument of issubdtype from `float` to `np.floating` is deprecated. In future, it will be treated as `np.float64 == np.dtype(float).type`.\n",
      "  from ._conv import register_converters as _register_converters\n",
      "Using TensorFlow backend.\n",
      "/home/ubuntu/anaconda3/lib/python3.6/site-packages/requests/__init__.py:80: RequestsDependencyWarning: urllib3 (1.23) or chardet (3.0.4) doesn't match a supported version!\n",
      "  RequestsDependencyWarning)\n"
     ]
    }
   ],
   "source": [
    "import os\n",
    "os.environ['KERAS_BACKEND'] = 'tensorflow'\n",
    "from keras.applications.xception import Xception\n",
    "from keras.applications import imagenet_utils\n",
    "from keras.applications.inception_v3 import preprocess_input\n",
    "from keras.preprocessing.image import img_to_array, load_img, ImageDataGenerator\n",
    "from keras.models import Sequential, Model,load_model\n",
    "from keras.layers import Dropout, Flatten, Dense, Activation\n",
    "from keras import applications\n",
    "from keras import optimizers\n",
    "from keras.callbacks import ModelCheckpoint, LearningRateScheduler, TensorBoard, EarlyStopping\n",
    "import matplotlib.pyplot as plt\n",
    "import numpy as np\n",
    "from keras.callbacks import TensorBoard\n",
    "\n",
    "%matplotlib inline"
   ]
  },
  {
   "cell_type": "code",
   "execution_count": 2,
   "metadata": {},
   "outputs": [
    {
     "name": "stdout",
     "output_type": "stream",
     "text": [
      "_________________________________________________________________\n",
      "Layer (type)                 Output Shape              Param #   \n",
      "=================================================================\n",
      "input_1 (InputLayer)         (None, 224, 224, 3)       0         \n",
      "_________________________________________________________________\n",
      "block1_conv1 (Conv2D)        (None, 224, 224, 64)      1792      \n",
      "_________________________________________________________________\n",
      "block1_conv2 (Conv2D)        (None, 224, 224, 64)      36928     \n",
      "_________________________________________________________________\n",
      "block1_pool (MaxPooling2D)   (None, 112, 112, 64)      0         \n",
      "_________________________________________________________________\n",
      "block2_conv1 (Conv2D)        (None, 112, 112, 128)     73856     \n",
      "_________________________________________________________________\n",
      "block2_conv2 (Conv2D)        (None, 112, 112, 128)     147584    \n",
      "_________________________________________________________________\n",
      "block2_pool (MaxPooling2D)   (None, 56, 56, 128)       0         \n",
      "_________________________________________________________________\n",
      "block3_conv1 (Conv2D)        (None, 56, 56, 256)       295168    \n",
      "_________________________________________________________________\n",
      "block3_conv2 (Conv2D)        (None, 56, 56, 256)       590080    \n",
      "_________________________________________________________________\n",
      "block3_conv3 (Conv2D)        (None, 56, 56, 256)       590080    \n",
      "_________________________________________________________________\n",
      "block3_pool (MaxPooling2D)   (None, 28, 28, 256)       0         \n",
      "_________________________________________________________________\n",
      "block4_conv1 (Conv2D)        (None, 28, 28, 512)       1180160   \n",
      "_________________________________________________________________\n",
      "block4_conv2 (Conv2D)        (None, 28, 28, 512)       2359808   \n",
      "_________________________________________________________________\n",
      "block4_conv3 (Conv2D)        (None, 28, 28, 512)       2359808   \n",
      "_________________________________________________________________\n",
      "block4_pool (MaxPooling2D)   (None, 14, 14, 512)       0         \n",
      "_________________________________________________________________\n",
      "block5_conv1 (Conv2D)        (None, 14, 14, 512)       2359808   \n",
      "_________________________________________________________________\n",
      "block5_conv2 (Conv2D)        (None, 14, 14, 512)       2359808   \n",
      "_________________________________________________________________\n",
      "block5_conv3 (Conv2D)        (None, 14, 14, 512)       2359808   \n",
      "_________________________________________________________________\n",
      "block5_pool (MaxPooling2D)   (None, 7, 7, 512)         0         \n",
      "=================================================================\n",
      "Total params: 14,714,688\n",
      "Trainable params: 0\n",
      "Non-trainable params: 14,714,688\n",
      "_________________________________________________________________\n"
     ]
    }
   ],
   "source": [
    "base_model = applications.vgg16.VGG16(weights='imagenet', include_top=False, input_shape = (224,224,3))\n",
    "for layer in base_model.layers:\n",
    "    layer.trainable = False\n",
    "base_model.summary()"
   ]
  },
  {
   "cell_type": "code",
   "execution_count": 3,
   "metadata": {},
   "outputs": [
    {
     "name": "stdout",
     "output_type": "stream",
     "text": [
      "_________________________________________________________________\n",
      "Layer (type)                 Output Shape              Param #   \n",
      "=================================================================\n",
      "input_1 (InputLayer)         (None, 224, 224, 3)       0         \n",
      "_________________________________________________________________\n",
      "block1_conv1 (Conv2D)        (None, 224, 224, 64)      1792      \n",
      "_________________________________________________________________\n",
      "block1_conv2 (Conv2D)        (None, 224, 224, 64)      36928     \n",
      "_________________________________________________________________\n",
      "block1_pool (MaxPooling2D)   (None, 112, 112, 64)      0         \n",
      "_________________________________________________________________\n",
      "block2_conv1 (Conv2D)        (None, 112, 112, 128)     73856     \n",
      "_________________________________________________________________\n",
      "block2_conv2 (Conv2D)        (None, 112, 112, 128)     147584    \n",
      "_________________________________________________________________\n",
      "block2_pool (MaxPooling2D)   (None, 56, 56, 128)       0         \n",
      "_________________________________________________________________\n",
      "block3_conv1 (Conv2D)        (None, 56, 56, 256)       295168    \n",
      "_________________________________________________________________\n",
      "block3_conv2 (Conv2D)        (None, 56, 56, 256)       590080    \n",
      "_________________________________________________________________\n",
      "block3_conv3 (Conv2D)        (None, 56, 56, 256)       590080    \n",
      "_________________________________________________________________\n",
      "block3_pool (MaxPooling2D)   (None, 28, 28, 256)       0         \n",
      "_________________________________________________________________\n",
      "block4_conv1 (Conv2D)        (None, 28, 28, 512)       1180160   \n",
      "_________________________________________________________________\n",
      "block4_conv2 (Conv2D)        (None, 28, 28, 512)       2359808   \n",
      "_________________________________________________________________\n",
      "block4_conv3 (Conv2D)        (None, 28, 28, 512)       2359808   \n",
      "_________________________________________________________________\n",
      "block4_pool (MaxPooling2D)   (None, 14, 14, 512)       0         \n",
      "_________________________________________________________________\n",
      "block5_conv1 (Conv2D)        (None, 14, 14, 512)       2359808   \n",
      "_________________________________________________________________\n",
      "block5_conv2 (Conv2D)        (None, 14, 14, 512)       2359808   \n",
      "_________________________________________________________________\n",
      "block5_conv3 (Conv2D)        (None, 14, 14, 512)       2359808   \n",
      "_________________________________________________________________\n",
      "block5_pool (MaxPooling2D)   (None, 7, 7, 512)         0         \n",
      "_________________________________________________________________\n",
      "flatten_1 (Flatten)          (None, 25088)             0         \n",
      "_________________________________________________________________\n",
      "fc1 (Dense)                  (None, 4096)              102764544 \n",
      "_________________________________________________________________\n",
      "dropout_1 (Dropout)          (None, 4096)              0         \n",
      "_________________________________________________________________\n",
      "fc2 (Dense)                  (None, 4096)              16781312  \n",
      "_________________________________________________________________\n",
      "predictions (Dense)          (None, 10)                40970     \n",
      "=================================================================\n",
      "Total params: 134,301,514\n",
      "Trainable params: 119,586,826\n",
      "Non-trainable params: 14,714,688\n",
      "_________________________________________________________________\n"
     ]
    }
   ],
   "source": [
    "x = base_model.output\n",
    "x = Flatten()(x)\n",
    "x = Dense(4096, name='fc1')(x)\n",
    "x = Dropout(0.2)(x)\n",
    "x = Dense(4096, name='fc2')(x)\n",
    "x = Dense(10, activation='softmax', name='predictions')(x)\n",
    "model_final = Model(inputs=base_model.input, outputs=x)\n",
    "#model_final.compile(loss=\"categorical_crossentropy\", optimizer=optimizers.sgd(lr=0.0001, momentum=0.9), metrics=[\"accuracy\"])\n",
    "model_final.compile(loss=\"categorical_crossentropy\", optimizer=optimizers.RMSprop(lr=0.00001), metrics=[\"accuracy\"])\n",
    "model_final.summary()"
   ]
  },
  {
   "cell_type": "code",
   "execution_count": 6,
   "metadata": {},
   "outputs": [
    {
     "name": "stdout",
     "output_type": "stream",
     "text": [
      "Found 51376 images belonging to 11 classes.\n",
      "Found 10022 images belonging to 10 classes.\n"
     ]
    }
   ],
   "source": [
    "weights_file = 'vgg16_clothing_classifier_0911_v1.h5'\n",
    "train_datagen = ImageDataGenerator(rescale=1. / 255,\n",
    "                                  shear_range =.2,\n",
    "                                  zoom_range = .2,\n",
    "                                  horizontal_flip = True)\n",
    "val_datagen = ImageDataGenerator(rescale=1. / 255)\n",
    "\n",
    "train_data_dir = 'data/train'\n",
    "validation_data_dir = \"data/test\"\n",
    "nb_validation_samples = 10000\n",
    "nb_train_samples = 40000\n",
    "epochs = 15\n",
    "batch_size = 10\n",
    "img_width, img_height = 224, 224\n",
    "\n",
    "train_generator = train_datagen.flow_from_directory(\n",
    "                train_data_dir,\n",
    "                target_size=(img_width, img_height),\n",
    "                batch_size=batch_size,\n",
    "                class_mode='categorical',\n",
    "                shuffle=True)\n",
    "\n",
    "val_generator = val_datagen.flow_from_directory(\n",
    "                                validation_data_dir,\n",
    "                                target_size = (img_height, img_width),\n",
    "                                batch_size=batch_size,\n",
    "                                class_mode = \"categorical\")\n",
    "\n",
    "checkpoint = ModelCheckpoint(weights_file, monitor='val_acc', verbose=1, save_best_only=True, save_weights_only=False, mode='auto', period=1)\n",
    "early = EarlyStopping(monitor='val_acc', min_delta=0, patience=10, verbose=1, mode='auto')\n",
    "tensorboard = TensorBoard(log_dir='./logs', histogram_freq=0,\n",
    "                          write_graph=True, write_images=False)"
   ]
  },
  {
   "cell_type": "code",
   "execution_count": 7,
   "metadata": {},
   "outputs": [
    {
     "data": {
      "text/plain": [
       "{'.ipynb_checkpoints': 0,\n",
       " 'dress': 1,\n",
       " 'jacket': 2,\n",
       " 'jeans': 3,\n",
       " 'outerwear': 4,\n",
       " 'pants': 5,\n",
       " 'shorts': 6,\n",
       " 'skirts': 7,\n",
       " 'sweaters': 8,\n",
       " 'sweatshirt': 9,\n",
       " 'tops': 10}"
      ]
     },
     "execution_count": 7,
     "metadata": {},
     "output_type": "execute_result"
    }
   ],
   "source": [
    "train_generator.class_indices"
   ]
  },
  {
   "cell_type": "code",
   "execution_count": null,
   "metadata": {},
   "outputs": [
    {
     "name": "stdout",
     "output_type": "stream",
     "text": [
      "Epoch 1/15\n",
      "4000/4000 [==============================] - 220s 55ms/step - loss: 0.9102 - acc: 0.6942 - val_loss: 0.7563 - val_acc: 0.7400\n",
      "\n",
      "Epoch 00001: val_acc improved from -inf to 0.73997, saving model to vgg16_clothing_classifier_0911_v1.h5\n",
      "Epoch 2/15\n",
      "4000/4000 [==============================] - 218s 55ms/step - loss: 0.7013 - acc: 0.7614 - val_loss: 0.7949 - val_acc: 0.7400\n",
      "\n",
      "Epoch 00002: val_acc improved from 0.73997 to 0.73997, saving model to vgg16_clothing_classifier_0911_v1.h5\n",
      "Epoch 3/15\n",
      "4000/4000 [==============================] - 219s 55ms/step - loss: 0.6506 - acc: 0.7777 - val_loss: 0.7894 - val_acc: 0.7428\n",
      "\n",
      "Epoch 00003: val_acc improved from 0.73997 to 0.74277, saving model to vgg16_clothing_classifier_0911_v1.h5\n",
      "Epoch 4/15\n",
      "4000/4000 [==============================] - 217s 54ms/step - loss: 0.6186 - acc: 0.7927 - val_loss: 0.7469 - val_acc: 0.7636\n",
      "\n",
      "Epoch 00004: val_acc improved from 0.74277 to 0.76362, saving model to vgg16_clothing_classifier_0911_v1.h5\n",
      "Epoch 5/15\n",
      "4000/4000 [==============================] - 219s 55ms/step - loss: 0.5986 - acc: 0.7966 - val_loss: 0.7301 - val_acc: 0.7638\n",
      "\n",
      "Epoch 00005: val_acc improved from 0.76362 to 0.76382, saving model to vgg16_clothing_classifier_0911_v1.h5\n",
      "Epoch 6/15\n",
      "4000/4000 [==============================] - 218s 54ms/step - loss: 0.5862 - acc: 0.8015 - val_loss: 0.7436 - val_acc: 0.7533\n",
      "\n",
      "Epoch 00006: val_acc did not improve from 0.76382\n",
      "Epoch 7/15\n",
      "4000/4000 [==============================] - 219s 55ms/step - loss: 0.5651 - acc: 0.8094 - val_loss: 0.7939 - val_acc: 0.7612\n",
      "\n",
      "Epoch 00007: val_acc did not improve from 0.76382\n",
      "Epoch 8/15\n",
      "4000/4000 [==============================] - 220s 55ms/step - loss: 0.5561 - acc: 0.8130 - val_loss: 0.8079 - val_acc: 0.7560\n",
      "\n",
      "Epoch 00008: val_acc did not improve from 0.76382\n",
      "Epoch 9/15\n",
      "4000/4000 [==============================] - 219s 55ms/step - loss: 0.5509 - acc: 0.8146 - val_loss: 0.8810 - val_acc: 0.7310\n",
      "\n",
      "Epoch 00009: val_acc did not improve from 0.76382\n",
      "Epoch 10/15\n",
      "4000/4000 [==============================] - 218s 54ms/step - loss: 0.5368 - acc: 0.8181 - val_loss: 0.8089 - val_acc: 0.7517\n",
      "\n",
      "Epoch 00010: val_acc did not improve from 0.76382\n",
      "Epoch 11/15\n",
      "4000/4000 [==============================] - 216s 54ms/step - loss: 0.5280 - acc: 0.8237 - val_loss: 0.8026 - val_acc: 0.7670\n",
      "\n",
      "Epoch 00011: val_acc improved from 0.76382 to 0.76701, saving model to vgg16_clothing_classifier_0911_v1.h5\n",
      "Epoch 12/15\n",
      "4000/4000 [==============================] - 219s 55ms/step - loss: 0.5198 - acc: 0.8245 - val_loss: 0.7545 - val_acc: 0.7665\n",
      "\n",
      "Epoch 00012: val_acc did not improve from 0.76701\n",
      "Epoch 13/15\n",
      "4000/4000 [==============================] - 219s 55ms/step - loss: 0.5193 - acc: 0.8260 - val_loss: 0.7059 - val_acc: 0.7861\n",
      "\n",
      "Epoch 00013: val_acc improved from 0.76701 to 0.78607, saving model to vgg16_clothing_classifier_0911_v1.h5\n",
      "Epoch 14/15\n",
      "4000/4000 [==============================] - 218s 55ms/step - loss: 0.5039 - acc: 0.8304 - val_loss: 0.6625 - val_acc: 0.7943\n",
      "\n",
      "Epoch 00014: val_acc improved from 0.78607 to 0.79425, saving model to vgg16_clothing_classifier_0911_v1.h5\n",
      "Epoch 15/15\n",
      "3689/4000 [==========================>...] - ETA: 15s - loss: 0.5014 - acc: 0.8303"
     ]
    }
   ],
   "source": [
    "# Train the model \n",
    "history = model_final.fit_generator(\n",
    "            train_generator,\n",
    "            steps_per_epoch=nb_train_samples//batch_size,\n",
    "            epochs=epochs,\n",
    "            validation_data=val_generator,\n",
    "            validation_steps=nb_validation_samples//batch_size,\n",
    "            verbose=1,\n",
    "            workers=4, \n",
    "            callbacks = [checkpoint, early,tensorboard])"
   ]
  },
  {
   "cell_type": "code",
   "execution_count": 9,
   "metadata": {},
   "outputs": [
    {
     "data": {
      "image/png": "[encoded data removed]",
      "text/plain": [
       "<Figure size 432x288 with 1 Axes>"
      ]
     },
     "metadata": {},
     "output_type": "display_data"
    }
   ],
   "source": [
    "plt.plot(history.history['acc'])\n",
    "plt.plot(history.history['val_acc'])\n",
    "plt.title('model accuracy')\n",
    "plt.ylabel('accuracy')\n",
    "plt.xlabel('epoch')\n",
    "plt.legend(['train', 'validation'], loc='upper left')\n",
    "plt.savefig('model_15.png', dpi=500);"
   ]
  },
  {
   "cell_type": "code",
   "execution_count": 9,
   "metadata": {},
   "outputs": [],
   "source": [
    "model_final.save('vgg16_clothing_classifier_0909.h5')"
   ]
  },
  {
   "cell_type": "code",
   "execution_count": 9,
   "metadata": {},
   "outputs": [],
   "source": [
    "from keras.models import model_from_json\n",
    "json_string = model_final.to_json()\n",
    "\n",
    "with open(\"vgg16_0905.json\", 'w') as json_file:\n",
    "        json_file.write(json_string)"
   ]
  },
  {
   "cell_type": "code",
   "execution_count": 11,
   "metadata": {},
   "outputs": [],
   "source": [
    "model_final.save('vgg16_clothing_classifier_0905_all.h5')"
   ]
  },
  {
   "cell_type": "code",
   "execution_count": null,
   "metadata": {},
   "outputs": [],
   "source": []
  }
 ],
 "metadata": {
  "kernelspec": {
   "display_name": "Python [default]",
   "language": "python",
   "name": "python3"
  },
  "language_info": {
   "codemirror_mode": {
    "name": "ipython",
    "version": 3
   },
   "file_extension": ".py",
   "mimetype": "text/x-python",
   "name": "python",
   "nbconvert_exporter": "python",
   "pygments_lexer": "ipython3",
   "version": "3.6.4"
  }
 },
 "nbformat": 4,
 "nbformat_minor": 2
}
